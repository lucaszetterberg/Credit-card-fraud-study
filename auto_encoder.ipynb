{
 "cells": [
  {
   "cell_type": "markdown",
   "metadata": {},
   "source": [
    "#### Auto Encoder\n",
    "\n",
    "This is the auto encoder implementation that is going to be used in our study"
   ]
  },
  {
   "cell_type": "code",
   "execution_count": 14,
   "metadata": {},
   "outputs": [],
   "source": [
    "import os\n",
    "import numpy as np\n",
    "import pandas as pd\n",
    "from tensorflow.keras.models import Model \n",
    "from tensorflow.keras.layers import Input, Dense\n",
    "from tensorflow.keras.optimizers import Adam\n",
    "from tensorflow.keras.datasets import mnist\n",
    "from tensorflow.keras.layers import BatchNormalization, Dropout\n",
    "import matplotlib.pyplot as plt\n",
    "import kagglehub # Gather data from kagglehub"
   ]
  },
  {
   "cell_type": "code",
   "execution_count": 15,
   "metadata": {},
   "outputs": [],
   "source": [
    "# Loading dataset\n",
    "path = kagglehub.dataset_download(\"mlg-ulb/creditcardfraud\")\n",
    "file = os.path.join(path, \"creditcard.csv\")\n",
    "data = pd.read_csv(file)\n",
    " \n",
    "print(data.shape)"
   ]
  },
  {
   "cell_type": "code",
   "execution_count": null,
   "metadata": {},
   "outputs": [],
   "source": [
    "input_dimension = data.shape[1]\n",
    "hidden_layer = 16\n",
    "input_layer = Input(shape=input_dimension,)\n",
    "Encoder1 = Dense(hidden_layer,activation=\"tanh\")(input_layer)\n",
    "Encoder2 = Dense(hidden_layer/2,activation=\"tanh\")(Encoder1)\n",
    "Encoder3 = Dense(hidden_layer/4,activation=\"tanh\")(Encoder2)\n",
    "Decoder1 = Dense(hidden_layer/4,activation=\"tanh\")(Encoder3)\n",
    "Decoder2 = Dense(hidden_layer/2,activation=\"tanh\")(Decoder1)\n",
    "Decoder3 = Dense(input_dimension,activation=\"tanh\")(Decoder2)\n",
    "AutoEncoderModel = Model(inputs=input_layer,outputs=Decoder3)\n",
    "\n"
   ]
  }
 ],
 "metadata": {
  "kernelspec": {
   "display_name": "Python 3",
   "language": "python",
   "name": "python3"
  },
  "language_info": {
   "codemirror_mode": {
    "name": "ipython",
    "version": 3
   },
   "file_extension": ".py",
   "mimetype": "text/x-python",
   "name": "python",
   "nbconvert_exporter": "python",
   "pygments_lexer": "ipython3",
   "version": "3.10.12"
  }
 },
 "nbformat": 4,
 "nbformat_minor": 2
}
